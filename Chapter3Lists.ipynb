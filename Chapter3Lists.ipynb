{
 "cells": [
  {
   "cell_type": "markdown",
   "metadata": {},
   "source": [
    "MALIK USMAN AHMAD PIAIC98144 \n",
    "Assignment of Lists"
   ]
  },
  {
   "cell_type": "code",
   "execution_count": 5,
   "metadata": {},
   "outputs": [
    {
     "data": {
      "text/plain": [
       "['Lahore', 'ISB', 'Karachi']"
      ]
     },
     "execution_count": 5,
     "metadata": {},
     "output_type": "execute_result"
    }
   ],
   "source": [
    "#Defining a list    \n",
    "cities=['Lahore','ISB','Karachi']\n",
    "cities"
   ]
  },
  {
   "cell_type": "code",
   "execution_count": 6,
   "metadata": {},
   "outputs": [
    {
     "name": "stdout",
     "output_type": "stream",
     "text": [
      "['Lahore', 'ISB', 'Karachi', 'Mutlan']\n"
     ]
    }
   ],
   "source": [
    "#append()- The append function will add the or append the value in the end/ last index of list automatically\n",
    "#Syntax>> list_name.append(value)\n",
    "cities.append('Mutlan')\n",
    "print(cities)"
   ]
  },
  {
   "cell_type": "code",
   "execution_count": 7,
   "metadata": {},
   "outputs": [
    {
     "data": {
      "text/plain": [
       "['Lahore', 'ISB', 'Karachi', 'Mutlan', 'Gujrwala', 'Sahiwal']"
      ]
     },
     "execution_count": 7,
     "metadata": {},
     "output_type": "execute_result"
    }
   ],
   "source": [
    "#extend() can be used to add a list in the last index of the list mean it can add iterable list\n",
    "#Syntax>> list_name.extend([list_values])\n",
    "cities.extend(['Gujrwala','Sahiwal'])\n",
    "cities"
   ]
  },
  {
   "cell_type": "code",
   "execution_count": 8,
   "metadata": {},
   "outputs": [
    {
     "data": {
      "text/plain": [
       "['Lahore', 'Peshawar', 'ISB', 'Karachi', 'Mutlan', 'Gujrwala', 'Sahiwal']"
      ]
     },
     "execution_count": 8,
     "metadata": {},
     "output_type": "execute_result"
    }
   ],
   "source": [
    "#insert() - the insert() used for adding the value in the specific location, you will give index and value both. \n",
    "#Syntax>> list_name.insert(index,value)\n",
    "cities.insert(1,'Peshawar')\n",
    "cities"
   ]
  },
  {
   "cell_type": "code",
   "execution_count": 11,
   "metadata": {},
   "outputs": [
    {
     "data": {
      "text/plain": [
       "['Lahore', 'Peshawar', 'Karachi', 'Mutlan', 'Gujrwala', 'Sahiwal']"
      ]
     },
     "execution_count": 11,
     "metadata": {},
     "output_type": "execute_result"
    }
   ],
   "source": [
    "#emove()- the remove() method used for removing or deleting a value from the list. \n",
    "#Syntax>> list_name.remove(value)\n",
    "cities.remove('ISB')\n",
    "cities"
   ]
  },
  {
   "cell_type": "code",
   "execution_count": 13,
   "metadata": {},
   "outputs": [
    {
     "name": "stdout",
     "output_type": "stream",
     "text": [
      "['Lahore', 'Peshawar', 'Karachi', 'Mutlan', 'Gujrwala']\n",
      "Sahiwal\n"
     ]
    }
   ],
   "source": [
    "#pop()- the pop() method used for removing or deleting the value and also store it specfic place so we can see and use it.\n",
    "# on the other hand remove() only delete, doesn't store it.  \n",
    "#Syntax>> list_name.pop(index) \n",
    "popped_value=cities.pop(-1)\n",
    "print(cities)\n",
    "print(popped_value)"
   ]
  },
  {
   "cell_type": "code",
   "execution_count": 17,
   "metadata": {},
   "outputs": [
    {
     "data": {
      "text/plain": [
       "[]"
      ]
     },
     "execution_count": 17,
     "metadata": {},
     "output_type": "execute_result"
    }
   ],
   "source": [
    "#clear() - this method clear() clear/delete all the list values.and it will empty then.\n",
    "#Syntax>> list_name.clear() \n",
    "cities.clear()\n",
    "cities"
   ]
  },
  {
   "cell_type": "code",
   "execution_count": 18,
   "metadata": {},
   "outputs": [],
   "source": [
    "#Defining again the list as previouse cleard/deleted by clear()\n",
    "cities=['Lahore', 'Peshawar', 'Karachi', 'Mutlan', 'Gujrwala']\n"
   ]
  },
  {
   "cell_type": "code",
   "execution_count": 21,
   "metadata": {},
   "outputs": [
    {
     "data": {
      "text/plain": [
       "0"
      ]
     },
     "execution_count": 21,
     "metadata": {},
     "output_type": "execute_result"
    }
   ],
   "source": [
    "# index() - this method will let us know the index of the value.\n",
    "#Syntax>> list_name.index(value)\n",
    "cities.index('Lahore') "
   ]
  },
  {
   "cell_type": "code",
   "execution_count": 26,
   "metadata": {},
   "outputs": [
    {
     "data": {
      "text/plain": [
       "1"
      ]
     },
     "execution_count": 26,
     "metadata": {},
     "output_type": "execute_result"
    }
   ],
   "source": [
    "# count() - as name it's clear it will count the number of times of the specfic value that we pass .\n",
    "# for example we give a value that is not available in list it will return 0\n",
    "#Syntax>> list_name.count(value)\n",
    "cities.count('Gujrwala')"
   ]
  },
  {
   "cell_type": "code",
   "execution_count": 30,
   "metadata": {},
   "outputs": [
    {
     "name": "stdout",
     "output_type": "stream",
     "text": [
      "List 1:  ['Lahore', 'Peshawar', 'Karachi', 'Mutlan', 'Gujrwala']\n",
      "List 2:  ['Lahore', 'Peshawar', 'Karachi', 'Mutlan', 'Gujrwala']\n"
     ]
    }
   ],
   "source": [
    "# Copy of list\n",
    "#There are two types of copy one is by value which is by .copy() function and one is by reference, Let's Look\n",
    "cities2=cities\n",
    "print(\"List 1: \",cities)\n",
    "print(\"List 2: \",cities2)"
   ]
  },
  {
   "cell_type": "code",
   "execution_count": 34,
   "metadata": {},
   "outputs": [
    {
     "name": "stdout",
     "output_type": "stream",
     "text": [
      "['Lahore', 'Mutlan', 'Gujrwala']\n",
      "['Lahore', 'Mutlan', 'Gujrwala']\n"
     ]
    }
   ],
   "source": [
    "#The both list is copied as above but this is as reference of variables and both indicate same value\n",
    "#Lets have a look, If we do change to one list it will be effect on both\n",
    "cities.remove('Karachi')\n",
    "print(cities)\n",
    "print(cities2)\n",
    "#check below out both list effected as we told it it's the reference it indicates the same value."
   ]
  },
  {
   "cell_type": "code",
   "execution_count": 36,
   "metadata": {},
   "outputs": [
    {
     "name": "stdout",
     "output_type": "stream",
     "text": [
      "List 1 old :  ['Lahore', 'Mutlan', 'Gujrwala']\n",
      "New copied list ['Lahore', 'Mutlan', 'Gujrwala']\n",
      "List 1 after effected:  ['Lahore', 'Mutlan']\n",
      "2nd list copied:  ['Lahore', 'Mutlan', 'Gujrwala']\n"
     ]
    }
   ],
   "source": [
    "# copy() - Now have a look this copy function as this copy by value.\n",
    "#Syntax>> list_name.copy()\n",
    "newcity=cities.copy()\n",
    "#Let see copied new list.\n",
    "print('List 1 old : ', cities)\n",
    "print('New copied list', newcity)\n",
    "#Now let see if we do some changes in one, both are effected or not\n",
    "newpop=cities.pop(-1)\n",
    "print('List 1 after effected: ', cities)\n",
    "print('2nd list copied: ',newcity)\n",
    "#as we can check below the copied one is not effected. That's thd differnce in both"
   ]
  },
  {
   "cell_type": "code",
   "execution_count": 40,
   "metadata": {},
   "outputs": [
    {
     "data": {
      "text/plain": [
       "[9, 8, 7, 6, 5, 4, 3, 2, 1]"
      ]
     },
     "execution_count": 40,
     "metadata": {},
     "output_type": "execute_result"
    }
   ],
   "source": [
    "# reverse() - will reverse the  whole list list\n",
    "#syntax>> list_name.reverse()\n",
    "numberl=[1,2,3,4,5,6,7,8,9]\n",
    "numberl.reverse()\n",
    "numberl"
   ]
  },
  {
   "cell_type": "code",
   "execution_count": 45,
   "metadata": {},
   "outputs": [
    {
     "name": "stdout",
     "output_type": "stream",
     "text": [
      "['Chicago', 'Florida', 'Houston', 'Los Angeles', 'New York', 'Phoenix', 'S Frensico', 'Texas']\n",
      "The list in descending order sorted :  ['Texas', 'S Frensico', 'Phoenix', 'New York', 'Los Angeles', 'Houston', 'Florida', 'Chicago']\n"
     ]
    }
   ],
   "source": [
    "# sort() will sort the values in ascending order, Like by alphabaticaly\n",
    "#Syntax>> list_name.sort()\n",
    "newlist=[\"New York\", \"Los Angeles\", \"Chicago\", \"Houston\", \"Phoenix\", \"Florida\", \"Texas\", 'S Frensico']\n",
    "newlist.sort()\n",
    "print(newlist)\n",
    "#If we want to sort in descending order then we have to pass reverse=True\n",
    "newlist.sort(reverse=True)\n",
    "print('The list in descending order sorted : ',newlist)"
   ]
  }
 ],
 "metadata": {
  "kernelspec": {
   "display_name": "Python 3",
   "language": "python",
   "name": "python3"
  },
  "language_info": {
   "codemirror_mode": {
    "name": "ipython",
    "version": 3
   },
   "file_extension": ".py",
   "mimetype": "text/x-python",
   "name": "python",
   "nbconvert_exporter": "python",
   "pygments_lexer": "ipython3",
   "version": "3.11.9"
  }
 },
 "nbformat": 4,
 "nbformat_minor": 2
}
