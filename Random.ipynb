{
 "cells": [
  {
   "cell_type": "code",
   "execution_count": 3,
   "metadata": {},
   "outputs": [
    {
     "name": "stdout",
     "output_type": "stream",
     "text": [
      "There are 85 days b/w chirs\n"
     ]
    }
   ],
   "source": [
    "from datetime import datetime\n",
    "chirs=datetime(year=2024, month=12, day=25)\n",
    "birthday = datetime(year=2024,month=10, day=1)\n",
    "\n",
    "a= chirs - birthday\n",
    "\n",
    "print(\"There are\", a.days, \"days b/w chirs\")"
   ]
  },
  {
   "cell_type": "code",
   "execution_count": 6,
   "metadata": {},
   "outputs": [
    {
     "name": "stdout",
     "output_type": "stream",
     "text": [
      "Both number added:-  5\n"
     ]
    }
   ],
   "source": [
    "#Python Assignment\n",
    "#TASK 1\n",
    "a=int(input('Enter 1st number: '))\n",
    "b=int(input('Enter 2nd number: '))\n",
    "result=a+b\n",
    "print('Both number added:- ', result)\n"
   ]
  },
  {
   "cell_type": "code",
   "execution_count": 12,
   "metadata": {},
   "outputs": [
    {
     "name": "stdout",
     "output_type": "stream",
     "text": [
      "My fav animal is also:Lion\n"
     ]
    }
   ],
   "source": [
    "#TASK 2\n",
    "fanimal=input('ENter you fav animal name: ')\n",
    "print(f'My fav animal is also:{fanimal}')"
   ]
  },
  {
   "cell_type": "code",
   "execution_count": 15,
   "metadata": {},
   "outputs": [
    {
     "name": "stdout",
     "output_type": "stream",
     "text": [
      "The tempereture in Degree Celcius =  37.0\n"
     ]
    }
   ],
   "source": [
    "#TASK 3\n",
    "Tempf=float(input('Enter the temperature in farnhiet:-'))\n",
    "cel=(Tempf-32)*5.0/9.0\n",
    "print('The tempereture in Degree Celcius = ', cel)"
   ]
  },
  {
   "cell_type": "code",
   "execution_count": 16,
   "metadata": {},
   "outputs": [
    {
     "name": "stdout",
     "output_type": "stream",
     "text": [
      "The parameter of triangle is:-  9.2\n"
     ]
    }
   ],
   "source": [
    "#TASK 4\n",
    "l1=float(input('Enter length 1 of triangle: '))\n",
    "l2=float(input('Enter length 2 of triangle: '))\n",
    "l3=float(input('Enter length 3 of triangle: '))\n",
    "print('The parameter of triangle is:- ',l1+l2+l3)"
   ]
  },
  {
   "cell_type": "code",
   "execution_count": 17,
   "metadata": {},
   "outputs": [
    {
     "name": "stdout",
     "output_type": "stream",
     "text": [
      "The square of your number is : 4\n"
     ]
    }
   ],
   "source": [
    "#TASK 5\n",
    "number=int(input('Enter the number your you want to square: '))\n",
    "print('The square of your number is :',number**2)"
   ]
  },
  {
   "cell_type": "code",
   "execution_count": null,
   "metadata": {},
   "outputs": [],
   "source": [
    "#TASK 6\n"
   ]
  }
 ],
 "metadata": {
  "kernelspec": {
   "display_name": "Python 3",
   "language": "python",
   "name": "python3"
  },
  "language_info": {
   "codemirror_mode": {
    "name": "ipython",
    "version": 3
   },
   "file_extension": ".py",
   "mimetype": "text/x-python",
   "name": "python",
   "nbconvert_exporter": "python",
   "pygments_lexer": "ipython3",
   "version": "3.11.9"
  }
 },
 "nbformat": 4,
 "nbformat_minor": 2
}
